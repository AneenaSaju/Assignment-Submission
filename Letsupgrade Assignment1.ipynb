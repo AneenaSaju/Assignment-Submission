{
 "cells": [
  {
   "cell_type": "code",
   "execution_count": 1,
   "id": "16bcdb64",
   "metadata": {},
   "outputs": [
    {
     "name": "stdout",
     "output_type": "stream",
     "text": [
      "HELLO WORLD\n"
     ]
    }
   ],
   "source": [
    "print(\"HELLO WORLD\")"
   ]
  },
  {
   "cell_type": "code",
   "execution_count": 2,
   "id": "3529ecf2",
   "metadata": {},
   "outputs": [
    {
     "data": {
      "text/plain": [
       "2.0"
      ]
     },
     "execution_count": 2,
     "metadata": {},
     "output_type": "execute_result"
    }
   ],
   "source": [
    "6/3"
   ]
  },
  {
   "cell_type": "code",
   "execution_count": 3,
   "id": "a1b132c3",
   "metadata": {},
   "outputs": [
    {
     "data": {
      "text/plain": [
       "2.0"
      ]
     },
     "execution_count": 3,
     "metadata": {},
     "output_type": "execute_result"
    }
   ],
   "source": [
    "6/3.0"
   ]
  },
  {
   "cell_type": "code",
   "execution_count": 4,
   "id": "dcb119d3",
   "metadata": {},
   "outputs": [
    {
     "data": {
      "text/plain": [
       "float"
      ]
     },
     "execution_count": 4,
     "metadata": {},
     "output_type": "execute_result"
    }
   ],
   "source": [
    "marks=55.4\n",
    "type(marks)"
   ]
  },
  {
   "cell_type": "code",
   "execution_count": 6,
   "id": "7ea0e040",
   "metadata": {},
   "outputs": [
    {
     "data": {
      "text/plain": [
       "str"
      ]
     },
     "execution_count": 6,
     "metadata": {},
     "output_type": "execute_result"
    }
   ],
   "source": [
    "name=\"Aneena\" \n",
    "type(name)"
   ]
  },
  {
   "cell_type": "code",
   "execution_count": 7,
   "id": "3070bd95",
   "metadata": {},
   "outputs": [
    {
     "data": {
      "text/plain": [
       "int"
      ]
     },
     "execution_count": 7,
     "metadata": {},
     "output_type": "execute_result"
    }
   ],
   "source": [
    "age=10\n",
    "type(age)"
   ]
  },
  {
   "cell_type": "code",
   "execution_count": 9,
   "id": "7e1ad675",
   "metadata": {},
   "outputs": [
    {
     "data": {
      "text/plain": [
       "bool"
      ]
     },
     "execution_count": 9,
     "metadata": {},
     "output_type": "execute_result"
    }
   ],
   "source": [
    "isTrue=True\n",
    "isFalse=False\n",
    "type(isTrue)"
   ]
  },
  {
   "cell_type": "code",
   "execution_count": 11,
   "id": "0365ace7",
   "metadata": {},
   "outputs": [
    {
     "data": {
      "text/plain": [
       "list"
      ]
     },
     "execution_count": 11,
     "metadata": {},
     "output_type": "execute_result"
    }
   ],
   "source": [
    "items=list()\n",
    "items=[]\n",
    "type(items)"
   ]
  },
  {
   "cell_type": "code",
   "execution_count": 23,
   "id": "0323a3dc",
   "metadata": {},
   "outputs": [
    {
     "name": "stdout",
     "output_type": "stream",
     "text": [
      "My name is: Aneena age: 10 lives in India\n"
     ]
    }
   ],
   "source": [
    "name='Aneena'\n",
    "age=10\n",
    "country='India'\n",
    "print('My name is:',name,'age:',age,'lives in',country)"
   ]
  },
  {
   "cell_type": "code",
   "execution_count": 24,
   "id": "33316f3c",
   "metadata": {},
   "outputs": [
    {
     "name": "stdout",
     "output_type": "stream",
     "text": [
      "my name is Aneena and im 10 old and i stays in India\n"
     ]
    }
   ],
   "source": [
    "print(f'my name is {name} and im {age} old and i stays in {country}')"
   ]
  },
  {
   "cell_type": "code",
   "execution_count": 25,
   "id": "4b08eb85",
   "metadata": {},
   "outputs": [
    {
     "name": "stdout",
     "output_type": "stream",
     "text": [
      "2.3636363636363638\n"
     ]
    }
   ],
   "source": [
    "print(f\"{78/33}\")"
   ]
  },
  {
   "cell_type": "code",
   "execution_count": 22,
   "id": "29204545",
   "metadata": {},
   "outputs": [],
   "source": [
    "total_items= list()"
   ]
  },
  {
   "cell_type": "code",
   "execution_count": 26,
   "id": "9fcfb09c",
   "metadata": {},
   "outputs": [],
   "source": [
    "total_items.append(89)"
   ]
  },
  {
   "cell_type": "code",
   "execution_count": 27,
   "id": "4cb3308f",
   "metadata": {},
   "outputs": [],
   "source": [
    "total_items.append(34.6)"
   ]
  },
  {
   "cell_type": "code",
   "execution_count": 29,
   "id": "0f18faed",
   "metadata": {},
   "outputs": [],
   "source": [
    "total_items.append('hi')"
   ]
  },
  {
   "cell_type": "code",
   "execution_count": 32,
   "id": "838d78a2",
   "metadata": {},
   "outputs": [],
   "source": [
    "total_items.append([4,5,6,7,8,9])"
   ]
  },
  {
   "cell_type": "code",
   "execution_count": 33,
   "id": "c0c040d3",
   "metadata": {},
   "outputs": [
    {
     "data": {
      "text/plain": [
       "[89, 34.6, 'hi', [4, 5, 6, 7, 8, 9]]"
      ]
     },
     "execution_count": 33,
     "metadata": {},
     "output_type": "execute_result"
    }
   ],
   "source": [
    "total_items"
   ]
  },
  {
   "cell_type": "code",
   "execution_count": 35,
   "id": "df4e0670",
   "metadata": {},
   "outputs": [
    {
     "data": {
      "text/plain": [
       "1"
      ]
     },
     "execution_count": 35,
     "metadata": {},
     "output_type": "execute_result"
    }
   ],
   "source": [
    "min([2,5,6,1])"
   ]
  },
  {
   "cell_type": "code",
   "execution_count": 36,
   "id": "c6a3293d",
   "metadata": {},
   "outputs": [
    {
     "data": {
      "text/plain": [
       "9"
      ]
     },
     "execution_count": 36,
     "metadata": {},
     "output_type": "execute_result"
    }
   ],
   "source": [
    "max([9,4,6,5])"
   ]
  },
  {
   "cell_type": "code",
   "execution_count": 40,
   "id": "ccab7d0b",
   "metadata": {},
   "outputs": [
    {
     "data": {
      "text/plain": [
       "'w'"
      ]
     },
     "execution_count": 40,
     "metadata": {},
     "output_type": "execute_result"
    }
   ],
   "source": [
    "max(['s','g','w'])"
   ]
  },
  {
   "cell_type": "code",
   "execution_count": 41,
   "id": "8afd4c06",
   "metadata": {},
   "outputs": [
    {
     "data": {
      "text/plain": [
       "11"
      ]
     },
     "execution_count": 41,
     "metadata": {},
     "output_type": "execute_result"
    }
   ],
   "source": [
    "sum([2,1,3,4,1])"
   ]
  },
  {
   "cell_type": "code",
   "execution_count": 42,
   "id": "7657541a",
   "metadata": {},
   "outputs": [],
   "source": [
    "tuple_a=tuple()"
   ]
  },
  {
   "cell_type": "code",
   "execution_count": 43,
   "id": "ef088d42",
   "metadata": {},
   "outputs": [
    {
     "data": {
      "text/plain": [
       "tuple"
      ]
     },
     "execution_count": 43,
     "metadata": {},
     "output_type": "execute_result"
    }
   ],
   "source": [
    "type(tuple_a)"
   ]
  },
  {
   "cell_type": "code",
   "execution_count": null,
   "id": "8cdc3e8d",
   "metadata": {},
   "outputs": [],
   "source": [
    "#dic"
   ]
  },
  {
   "cell_type": "code",
   "execution_count": 47,
   "id": "2761314c",
   "metadata": {},
   "outputs": [
    {
     "data": {
      "text/plain": [
       "{'name': 'Aneena', 'Age': 22}"
      ]
     },
     "execution_count": 47,
     "metadata": {},
     "output_type": "execute_result"
    }
   ],
   "source": [
    "{'name':'Aneena',\n",
    "'Age':22,}"
   ]
  },
  {
   "cell_type": "code",
   "execution_count": 51,
   "id": "83e6cd27",
   "metadata": {},
   "outputs": [],
   "source": [
    "a={1,2,3,4}"
   ]
  },
  {
   "cell_type": "code",
   "execution_count": 52,
   "id": "bbd4ef59",
   "metadata": {},
   "outputs": [
    {
     "data": {
      "text/plain": [
       "set"
      ]
     },
     "execution_count": 52,
     "metadata": {},
     "output_type": "execute_result"
    }
   ],
   "source": [
    "type(a)"
   ]
  },
  {
   "cell_type": "code",
   "execution_count": null,
   "id": "86d7da45",
   "metadata": {},
   "outputs": [],
   "source": []
  }
 ],
 "metadata": {
  "kernelspec": {
   "display_name": "Python 3 (ipykernel)",
   "language": "python",
   "name": "python3"
  },
  "language_info": {
   "codemirror_mode": {
    "name": "ipython",
    "version": 3
   },
   "file_extension": ".py",
   "mimetype": "text/x-python",
   "name": "python",
   "nbconvert_exporter": "python",
   "pygments_lexer": "ipython3",
   "version": "3.10.2"
  }
 },
 "nbformat": 4,
 "nbformat_minor": 5
}
